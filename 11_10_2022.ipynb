{
  "nbformat": 4,
  "nbformat_minor": 0,
  "metadata": {
    "colab": {
      "provenance": [],
      "authorship_tag": "ABX9TyNNXLQXrCG1P/GHXYd8zW8V",
      "include_colab_link": true
    },
    "kernelspec": {
      "name": "python3",
      "display_name": "Python 3"
    },
    "language_info": {
      "name": "python"
    }
  },
  "cells": [
    {
      "cell_type": "markdown",
      "metadata": {
        "id": "view-in-github",
        "colab_type": "text"
      },
      "source": [
        "<a href=\"https://colab.research.google.com/github/aman77068/class-works/blob/main/11_10_2022.ipynb\" target=\"_parent\"><img src=\"https://colab.research.google.com/assets/colab-badge.svg\" alt=\"Open In Colab\"/></a>"
      ]
    },
    {
      "cell_type": "code",
      "execution_count": 2,
      "metadata": {
        "id": "FElWJ9e66Tlv",
        "colab": {
          "base_uri": "https://localhost:8080/"
        },
        "outputId": "62b05389-3565-4149-afb6-bd972b7f8f42"
      },
      "outputs": [
        {
          "output_type": "stream",
          "name": "stdout",
          "text": [
            "Aman 20\n"
          ]
        }
      ],
      "source": [
        "#inheritance  is a good concept for code reusibility\n",
        "class Person:\n",
        "  def __init__(self, name, age):\n",
        "    self.name=name\n",
        "    self.age=age\n",
        "\n",
        "  def display(self):\n",
        "    print(self.name, self.age)\n",
        "\n",
        "class Employee(Person):\n",
        "  pass\n",
        "# pass is used if you dont want to create/define any function for different classes\n",
        "a = Employee(\"Aman\", 20)\n",
        "a.display()"
      ]
    },
    {
      "cell_type": "code",
      "source": [
        "#heritance if (pass) is not used\n",
        "class Person:\n",
        " def __init__(self, name, age):\n",
        "   self.name = name\n",
        "   self.age = age\n",
        "\n",
        " def display(self):\n",
        "    print(self.name, self.age)\n",
        "class Employee(Person):\n",
        "  def __init__(self, name, age):\n",
        "    Person.__init__(self, name, age)  # it means only name and age is taking from person\n",
        "a= Employee(\"Aman\", 20)\n",
        "a.display()"
      ],
      "metadata": {
        "colab": {
          "base_uri": "https://localhost:8080/"
        },
        "id": "fLVdMLJ6KSlM",
        "outputId": "c77fbb2d-35a4-4118-d0c9-335605730ae1"
      },
      "execution_count": 8,
      "outputs": [
        {
          "output_type": "stream",
          "name": "stdout",
          "text": [
            "Aman 20\n"
          ]
        }
      ]
    },
    {
      "cell_type": "code",
      "source": [
        "#self is used to define the identity of object/function in class "
      ],
      "metadata": {
        "id": "W5TTcIdNN-Df"
      },
      "execution_count": null,
      "outputs": []
    }
  ]
}