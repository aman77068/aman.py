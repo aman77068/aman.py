{
  "nbformat": 4,
  "nbformat_minor": 0,
  "metadata": {
    "colab": {
      "provenance": [],
      "authorship_tag": "ABX9TyMH95F0ucWLmXjAA8abQPsG",
      "include_colab_link": true
    },
    "kernelspec": {
      "name": "python3",
      "display_name": "Python 3"
    },
    "language_info": {
      "name": "python"
    }
  },
  "cells": [
    {
      "cell_type": "markdown",
      "metadata": {
        "id": "view-in-github",
        "colab_type": "text"
      },
      "source": [
        "<a href=\"https://colab.research.google.com/github/aman77068/class-works/blob/main/11_10_2022.ipynb\" target=\"_parent\"><img src=\"https://colab.research.google.com/assets/colab-badge.svg\" alt=\"Open In Colab\"/></a>"
      ]
    },
    {
      "cell_type": "code",
      "execution_count": null,
      "metadata": {
        "id": "FElWJ9e66Tlv",
        "colab": {
          "base_uri": "https://localhost:8080/"
        },
        "outputId": "62b05389-3565-4149-afb6-bd972b7f8f42"
      },
      "outputs": [
        {
          "output_type": "stream",
          "name": "stdout",
          "text": [
            "Aman 20\n"
          ]
        }
      ],
      "source": [
        "#inheritance  is a good concept for code reusibility\n",
        "class Person:\n",
        "  def __init__(self, name, age):\n",
        "    self.name=name\n",
        "    self.age=age\n",
        "\n",
        "  def display(self):\n",
        "    print(self.name, self.age)\n",
        "\n",
        "class Employee(Person):\n",
        "  pass\n",
        "# pass is used if you dont want to create/define any function for different classes\n",
        "a = Employee(\"Aman\", 20)\n",
        "a.display()"
      ]
    },
    {
      "cell_type": "code",
      "source": [
        "#heritance if (pass) is not used\n",
        "class Person:\n",
        " def __init__(self, name, age):\n",
        "   self.name = name\n",
        "   self.age = age\n",
        "\n",
        " def display(self):\n",
        "    print(self.name, self.age)\n",
        "class Employee(Person):\n",
        "  def __init__(self, name, age):\n",
        "    Person.__init__(self, name, age)  # it means only name and age is taking from person\n",
        "a= Employee(\"Aman\", 20)\n",
        "a.display()"
      ],
      "metadata": {
        "colab": {
          "base_uri": "https://localhost:8080/"
        },
        "id": "fLVdMLJ6KSlM",
        "outputId": "c77fbb2d-35a4-4118-d0c9-335605730ae1"
      },
      "execution_count": null,
      "outputs": [
        {
          "output_type": "stream",
          "name": "stdout",
          "text": [
            "Aman 20\n"
          ]
        }
      ]
    },
    {
      "cell_type": "code",
      "source": [
        "#self is used to define the identity of object/function in class \n",
        "class Person:\n",
        " def __init__(self, name, age):\n",
        "  self.name = name\n",
        "  self.age = age\n",
        "\n",
        " def display(self):\n",
        "  print(self.name, self.age)\n",
        "\n",
        "class Employee(Person):\n",
        "  def __init__(self, name, age, year):\n",
        "    super().__init__(name, age)   #here self will not come    #or Person.__init__(self, name, age)\n",
        "    self.year = year   # because in parent class year was not defined\n",
        "\n",
        "  def welcome(self):\n",
        "    print(\"welcome\", self.name, \"you are\", self.age, \"years old\", \"your year is\", self.year)\n",
        "\n",
        "a = Employee(\"Aman\", 20, 2022)\n",
        "a.welcome()\n",
        "\n"
      ],
      "metadata": {
        "id": "W5TTcIdNN-Df",
        "colab": {
          "base_uri": "https://localhost:8080/"
        },
        "outputId": "bdf382df-5eb4-4c34-f520-29287a7ad14f"
      },
      "execution_count": 9,
      "outputs": [
        {
          "output_type": "stream",
          "name": "stdout",
          "text": [
            "welcome Aman you are 20 years old your year is 2022\n"
          ]
        }
      ]
    },
    {
      "cell_type": "code",
      "source": [
        "class Animal:\n",
        "  def speak(self):\n",
        "    print(\"Animal is speaking\")\n",
        "\n",
        "class Dog(Animal):\n",
        "  def bark(self):\n",
        "    print(\"Dog barking\")\n",
        "\n",
        "\n",
        "class Puppy(Dog):\n",
        "  def eat(self):\n",
        "    print(\"Puppy is eating bread\")\n",
        "\n",
        "a=Puppy()\n",
        "a.speak()\n",
        "a.bark()\n",
        "a.eat()"
      ],
      "metadata": {
        "colab": {
          "base_uri": "https://localhost:8080/"
        },
        "id": "cosOntfhsE3E",
        "outputId": "ca19479d-4d1f-425a-eb10-4dbb5bc99284"
      },
      "execution_count": 13,
      "outputs": [
        {
          "output_type": "stream",
          "name": "stdout",
          "text": [
            "Animal is speaking\n",
            "Dog barking\n",
            "Puppy is eating bread\n"
          ]
        }
      ]
    },
    {
      "cell_type": "code",
      "source": [
        "class calc1:\n",
        "  def add(self, a,b):\n",
        "    return a+b\n",
        "\n",
        "class calc2:\n",
        "  def multi(self, a,b):\n",
        "    return a*b\n",
        "\n",
        "class cal3(calc1, calc2):\n",
        "  def div(self, a,b):\n",
        "    return a/b\n",
        "\n",
        "a=cal3()\n",
        "print(a.add(10,20))\n",
        "print(a.multi(4,3))\n",
        "print(a.div(10,5))\n"
      ],
      "metadata": {
        "colab": {
          "base_uri": "https://localhost:8080/"
        },
        "id": "7LDsRY5UxoCu",
        "outputId": "192a801a-2cbf-47b3-8d6f-38243ad60bac"
      },
      "execution_count": 18,
      "outputs": [
        {
          "output_type": "stream",
          "name": "stdout",
          "text": [
            "30\n",
            "12\n",
            "2.0\n"
          ]
        }
      ]
    },
    {
      "cell_type": "code",
      "source": [],
      "metadata": {
        "id": "UyxZw_WuzhoK"
      },
      "execution_count": null,
      "outputs": []
    },
    {
      "cell_type": "code",
      "source": [],
      "metadata": {
        "id": "FJ8usGcA15Ta"
      },
      "execution_count": null,
      "outputs": []
    },
    {
      "cell_type": "code",
      "source": [],
      "metadata": {
        "id": "ve_iphb12dHP"
      },
      "execution_count": null,
      "outputs": []
    }
  ]
}